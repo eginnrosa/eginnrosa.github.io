{
 "cells": [
  {
   "cell_type": "code",
   "execution_count": 1,
   "metadata": {},
   "outputs": [],
   "source": [
    "import pandas as pd\n",
    "import requests"
   ]
  },
  {
   "cell_type": "markdown",
   "metadata": {},
   "source": [
    "### Medicare Provider Utilization and Payment Data: Physician and Other Supplier PUF CY2016"
   ]
  },
  {
   "cell_type": "code",
   "execution_count": 2,
   "metadata": {},
   "outputs": [],
   "source": [
    "endpoint = \"https://data.cms.gov/resource/haqy-eqp7.json\""
   ]
  },
  {
   "cell_type": "code",
   "execution_count": 4,
   "metadata": {},
   "outputs": [
    {
     "data": {
      "text/plain": [
       "{'average_medicare_allowed_amt': '72.743157895',\n",
       " 'average_medicare_payment_amt': '54.474385965',\n",
       " 'average_medicare_standard_amt': '55.807192982',\n",
       " 'average_submitted_chrg_amt': '325.15789474',\n",
       " 'bene_day_srvc_cnt': '57',\n",
       " 'bene_unique_cnt': '55',\n",
       " 'hcpcs_code': '99217',\n",
       " 'hcpcs_description': 'Hospital observation care discharge',\n",
       " 'hcpcs_drug_indicator': 'N',\n",
       " 'line_srvc_cnt': '57',\n",
       " 'medicare_participation_indicator': 'Y',\n",
       " 'npi': '1003000126',\n",
       " 'nppes_credentials': 'M.D.',\n",
       " 'nppes_entity_code': 'I',\n",
       " 'nppes_provider_city': 'CUMBERLAND',\n",
       " 'nppes_provider_country': 'US',\n",
       " 'nppes_provider_first_name': 'ARDALAN',\n",
       " 'nppes_provider_gender': 'M',\n",
       " 'nppes_provider_last_org_name': 'ENKESHAFI',\n",
       " 'nppes_provider_state': 'MD',\n",
       " 'nppes_provider_street1': '900 SETON DR',\n",
       " 'nppes_provider_zip': '215021854',\n",
       " 'place_of_service': 'F',\n",
       " 'provider_type': 'Internal Medicine'}"
      ]
     },
     "execution_count": 4,
     "metadata": {},
     "output_type": "execute_result"
    }
   ],
   "source": [
    "response = requests.get(endpoint).json()\n",
    "response[0]"
   ]
  },
  {
   "cell_type": "code",
   "execution_count": null,
   "metadata": {},
   "outputs": [],
   "source": []
  }
 ],
 "metadata": {
  "kernelspec": {
   "display_name": "Python [conda env:Anaconda3]",
   "language": "python",
   "name": "conda-env-Anaconda3-py"
  },
  "language_info": {
   "codemirror_mode": {
    "name": "ipython",
    "version": 3
   },
   "file_extension": ".py",
   "mimetype": "text/x-python",
   "name": "python",
   "nbconvert_exporter": "python",
   "pygments_lexer": "ipython3",
   "version": "3.6.5"
  }
 },
 "nbformat": 4,
 "nbformat_minor": 2
}
