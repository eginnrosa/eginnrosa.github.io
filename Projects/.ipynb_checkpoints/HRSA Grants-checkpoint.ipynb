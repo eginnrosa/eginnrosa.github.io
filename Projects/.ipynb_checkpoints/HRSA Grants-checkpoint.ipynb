{
 "cells": [
  {
   "cell_type": "code",
   "execution_count": 1,
   "metadata": {},
   "outputs": [],
   "source": [
    "# Dependencies\n",
    "%matplotlib inline\n",
    "\n",
    "import pandas as pd\n",
    "import os\n",
    "import matplotlib as plt\n",
    "import numpy as np"
   ]
  },
  {
   "cell_type": "code",
   "execution_count": 2,
   "metadata": {},
   "outputs": [
    {
     "data": {
      "text/html": [
       "<div>\n",
       "<style scoped>\n",
       "    .dataframe tbody tr th:only-of-type {\n",
       "        vertical-align: middle;\n",
       "    }\n",
       "\n",
       "    .dataframe tbody tr th {\n",
       "        vertical-align: top;\n",
       "    }\n",
       "\n",
       "    .dataframe thead th {\n",
       "        text-align: right;\n",
       "    }\n",
       "</style>\n",
       "<table border=\"1\" class=\"dataframe\">\n",
       "  <thead>\n",
       "    <tr style=\"text-align: right;\">\n",
       "      <th></th>\n",
       "      <th>DP_PRIMARY_ID</th>\n",
       "      <th>Grantee Name</th>\n",
       "      <th>Grant Number</th>\n",
       "      <th>HRSA Key Program</th>\n",
       "      <th>County Name</th>\n",
       "      <th>State Abbreviation</th>\n",
       "      <th>Grant Activity Code</th>\n",
       "      <th>Program Name</th>\n",
       "      <th>Financial Assistance</th>\n",
       "      <th>Award Year</th>\n",
       "      <th>...</th>\n",
       "      <th>Grant Project Period End Date</th>\n",
       "      <th>HHS Region</th>\n",
       "      <th>U.S. Senator Name (1)</th>\n",
       "      <th>U.S. Senator Name (2)</th>\n",
       "      <th>U.S. Congressional Representative Name</th>\n",
       "      <th>In U.S. - Mexico Border 100 Kilometer Area</th>\n",
       "      <th>In U.S. - Mexico Border County</th>\n",
       "      <th>Rural Status</th>\n",
       "      <th>Longitude</th>\n",
       "      <th>Latitude</th>\n",
       "    </tr>\n",
       "  </thead>\n",
       "  <tbody>\n",
       "    <tr>\n",
       "      <th>0</th>\n",
       "      <td>A03HP15137</td>\n",
       "      <td>Florida International University</td>\n",
       "      <td>A03HP15137</td>\n",
       "      <td>Health Workforce</td>\n",
       "      <td>Miami-Dade County</td>\n",
       "      <td>FL</td>\n",
       "      <td>A03</td>\n",
       "      <td>Public Health Traineeship (A03)</td>\n",
       "      <td>30918.0</td>\n",
       "      <td>2012</td>\n",
       "      <td>...</td>\n",
       "      <td>6/30/2013</td>\n",
       "      <td>Region IV</td>\n",
       "      <td>Bill Nelson</td>\n",
       "      <td>Marco Rubio</td>\n",
       "      <td>Carlos Curbelo</td>\n",
       "      <td>No</td>\n",
       "      <td>No</td>\n",
       "      <td>No</td>\n",
       "      <td>-80.376423</td>\n",
       "      <td>25.761029</td>\n",
       "    </tr>\n",
       "    <tr>\n",
       "      <th>1</th>\n",
       "      <td>A03HP15139</td>\n",
       "      <td>REGENTS OF THE UNIVERSITY OF CALIFORNIA, THE</td>\n",
       "      <td>A03HP15139</td>\n",
       "      <td>Health Workforce</td>\n",
       "      <td>Alameda County</td>\n",
       "      <td>CA</td>\n",
       "      <td>A03</td>\n",
       "      <td>Public Health Traineeship (A03)</td>\n",
       "      <td>25952.0</td>\n",
       "      <td>2012</td>\n",
       "      <td>...</td>\n",
       "      <td>6/30/2013</td>\n",
       "      <td>Region IX</td>\n",
       "      <td>Dianne Feinstein</td>\n",
       "      <td>Kamala D. Harris</td>\n",
       "      <td>Barbara Lee</td>\n",
       "      <td>No</td>\n",
       "      <td>No</td>\n",
       "      <td>No</td>\n",
       "      <td>-122.268031</td>\n",
       "      <td>37.870205</td>\n",
       "    </tr>\n",
       "    <tr>\n",
       "      <th>2</th>\n",
       "      <td>A03HP15140</td>\n",
       "      <td>UNIVERSITY OF CALIFORNIA, LOS ANGELES</td>\n",
       "      <td>A03HP15140</td>\n",
       "      <td>Health Workforce</td>\n",
       "      <td>Los Angeles County</td>\n",
       "      <td>CA</td>\n",
       "      <td>A03</td>\n",
       "      <td>Public Health Traineeship (A03)</td>\n",
       "      <td>70156.0</td>\n",
       "      <td>2012</td>\n",
       "      <td>...</td>\n",
       "      <td>6/30/2013</td>\n",
       "      <td>Region IX</td>\n",
       "      <td>Dianne Feinstein</td>\n",
       "      <td>Kamala D. Harris</td>\n",
       "      <td>Ted Lieu</td>\n",
       "      <td>No</td>\n",
       "      <td>No</td>\n",
       "      <td>No</td>\n",
       "      <td>-118.443371</td>\n",
       "      <td>34.058953</td>\n",
       "    </tr>\n",
       "    <tr>\n",
       "      <th>3</th>\n",
       "      <td>A03HP24225</td>\n",
       "      <td>UNIVERSITY OF FLORIDA</td>\n",
       "      <td>A03HP24225</td>\n",
       "      <td>Health Workforce</td>\n",
       "      <td>Alachua County</td>\n",
       "      <td>FL</td>\n",
       "      <td>A03</td>\n",
       "      <td>Public Health Traineeship (A03)</td>\n",
       "      <td>12914.0</td>\n",
       "      <td>2012</td>\n",
       "      <td>...</td>\n",
       "      <td>6/30/2013</td>\n",
       "      <td>Region IV</td>\n",
       "      <td>Bill Nelson</td>\n",
       "      <td>Marco Rubio</td>\n",
       "      <td>Ted S. Yoho</td>\n",
       "      <td>No</td>\n",
       "      <td>No</td>\n",
       "      <td>No</td>\n",
       "      <td>-82.342084</td>\n",
       "      <td>29.649728</td>\n",
       "    </tr>\n",
       "    <tr>\n",
       "      <th>4</th>\n",
       "      <td>A03HP24226</td>\n",
       "      <td>Research Foundation Of The City University Of ...</td>\n",
       "      <td>A03HP24226</td>\n",
       "      <td>Health Workforce</td>\n",
       "      <td>New York County</td>\n",
       "      <td>NY</td>\n",
       "      <td>A03</td>\n",
       "      <td>Public Health Traineeship (A03)</td>\n",
       "      <td>26076.0</td>\n",
       "      <td>2012</td>\n",
       "      <td>...</td>\n",
       "      <td>6/30/2013</td>\n",
       "      <td>Region II</td>\n",
       "      <td>Charles E. Schumer</td>\n",
       "      <td>Kirsten E. Gillibrand</td>\n",
       "      <td>Carolyn B. Maloney</td>\n",
       "      <td>No</td>\n",
       "      <td>No</td>\n",
       "      <td>No</td>\n",
       "      <td>-73.965305</td>\n",
       "      <td>40.768781</td>\n",
       "    </tr>\n",
       "  </tbody>\n",
       "</table>\n",
       "<p>5 rows × 28 columns</p>\n",
       "</div>"
      ],
      "text/plain": [
       "  DP_PRIMARY_ID                                       Grantee Name  \\\n",
       "0    A03HP15137                   Florida International University   \n",
       "1    A03HP15139       REGENTS OF THE UNIVERSITY OF CALIFORNIA, THE   \n",
       "2    A03HP15140              UNIVERSITY OF CALIFORNIA, LOS ANGELES   \n",
       "3    A03HP24225                              UNIVERSITY OF FLORIDA   \n",
       "4    A03HP24226  Research Foundation Of The City University Of ...   \n",
       "\n",
       "  Grant Number  HRSA Key Program         County Name State Abbreviation  \\\n",
       "0   A03HP15137  Health Workforce   Miami-Dade County                 FL   \n",
       "1   A03HP15139  Health Workforce      Alameda County                 CA   \n",
       "2   A03HP15140  Health Workforce  Los Angeles County                 CA   \n",
       "3   A03HP24225  Health Workforce      Alachua County                 FL   \n",
       "4   A03HP24226  Health Workforce     New York County                 NY   \n",
       "\n",
       "  Grant Activity Code                     Program Name  Financial Assistance  \\\n",
       "0                 A03  Public Health Traineeship (A03)               30918.0   \n",
       "1                 A03  Public Health Traineeship (A03)               25952.0   \n",
       "2                 A03  Public Health Traineeship (A03)               70156.0   \n",
       "3                 A03  Public Health Traineeship (A03)               12914.0   \n",
       "4                 A03  Public Health Traineeship (A03)               26076.0   \n",
       "\n",
       "   Award Year    ...      Grant Project Period End Date HHS Region  \\\n",
       "0        2012    ...                          6/30/2013  Region IV   \n",
       "1        2012    ...                          6/30/2013  Region IX   \n",
       "2        2012    ...                          6/30/2013  Region IX   \n",
       "3        2012    ...                          6/30/2013  Region IV   \n",
       "4        2012    ...                          6/30/2013  Region II   \n",
       "\n",
       "  U.S. Senator Name (1)  U.S. Senator Name (2)  \\\n",
       "0           Bill Nelson            Marco Rubio   \n",
       "1      Dianne Feinstein       Kamala D. Harris   \n",
       "2      Dianne Feinstein       Kamala D. Harris   \n",
       "3           Bill Nelson            Marco Rubio   \n",
       "4    Charles E. Schumer  Kirsten E. Gillibrand   \n",
       "\n",
       "  U.S. Congressional Representative Name  \\\n",
       "0                         Carlos Curbelo   \n",
       "1                            Barbara Lee   \n",
       "2                               Ted Lieu   \n",
       "3                            Ted S. Yoho   \n",
       "4                     Carolyn B. Maloney   \n",
       "\n",
       "  In U.S. - Mexico Border 100 Kilometer Area In U.S. - Mexico Border County  \\\n",
       "0                                         No                             No   \n",
       "1                                         No                             No   \n",
       "2                                         No                             No   \n",
       "3                                         No                             No   \n",
       "4                                         No                             No   \n",
       "\n",
       "  Rural Status   Longitude   Latitude  \n",
       "0           No  -80.376423  25.761029  \n",
       "1           No -122.268031  37.870205  \n",
       "2           No -118.443371  34.058953  \n",
       "3           No  -82.342084  29.649728  \n",
       "4           No  -73.965305  40.768781  \n",
       "\n",
       "[5 rows x 28 columns]"
      ]
     },
     "execution_count": 2,
     "metadata": {},
     "output_type": "execute_result"
    }
   ],
   "source": [
    "file = pd.read_csv(\"./Data Sources/hrsa_grant_data.csv\")\n",
    "file.head()"
   ]
  },
  {
   "cell_type": "code",
   "execution_count": 21,
   "metadata": {},
   "outputs": [
    {
     "data": {
      "text/plain": [
       "['DP_PRIMARY_ID',\n",
       " 'Grantee Name',\n",
       " 'Grant Number',\n",
       " 'HRSA Key Program',\n",
       " 'County Name',\n",
       " 'State Abbreviation',\n",
       " 'Grant Activity Code',\n",
       " 'Program Name',\n",
       " 'Financial Assistance',\n",
       " 'Award Year',\n",
       " 'DUNS Number',\n",
       " 'Address',\n",
       " 'City',\n",
       " 'ZIP Code',\n",
       " 'Program Director Name',\n",
       " 'Program Director Phone Number',\n",
       " 'Program Director Email',\n",
       " 'Abstract',\n",
       " 'Grant Project Period End Date',\n",
       " 'HHS Region',\n",
       " 'U.S. Senator Name (1)',\n",
       " 'U.S. Senator Name (2)',\n",
       " 'U.S. Congressional Representative Name',\n",
       " 'In U.S. - Mexico Border 100 Kilometer Area',\n",
       " 'In U.S. - Mexico Border County',\n",
       " 'Rural Status',\n",
       " 'Longitude',\n",
       " 'Latitude']"
      ]
     },
     "execution_count": 21,
     "metadata": {},
     "output_type": "execute_result"
    }
   ],
   "source": [
    "column_names = list(file)\n",
    "column_names"
   ]
  },
  {
   "cell_type": "code",
   "execution_count": 26,
   "metadata": {},
   "outputs": [
    {
     "data": {
      "text/plain": [
       "['Health Workforce',\n",
       " 'Maternal and Child Health',\n",
       " 'Rural Health',\n",
       " 'Healthcare Systems',\n",
       " 'Primary Health Care',\n",
       " 'HIV/AIDS',\n",
       " 'Office of the Administrator']"
      ]
     },
     "execution_count": 26,
     "metadata": {},
     "output_type": "execute_result"
    }
   ],
   "source": [
    "keyprogram_lst = list(file[\"HRSA Key Program\"].unique())\n",
    "keyprogram_lst"
   ]
  },
  {
   "cell_type": "code",
   "execution_count": 24,
   "metadata": {
    "scrolled": true
   },
   "outputs": [
    {
     "data": {
      "text/plain": [
       "['Miami-Dade County',\n",
       " 'Alameda County',\n",
       " 'Los Angeles County',\n",
       " 'Alachua County',\n",
       " 'New York County']"
      ]
     },
     "execution_count": 24,
     "metadata": {},
     "output_type": "execute_result"
    }
   ],
   "source": [
    "county_lst = list(file[\"County Name\"].unique())\n",
    "county_lst[0:5]"
   ]
  },
  {
   "cell_type": "code",
   "execution_count": 25,
   "metadata": {},
   "outputs": [
    {
     "data": {
      "text/plain": [
       "['FL', 'CA', 'NY', 'LA', 'GA']"
      ]
     },
     "execution_count": 25,
     "metadata": {},
     "output_type": "execute_result"
    }
   ],
   "source": [
    "state_lst = list(file[\"State Abbreviation\"].unique())\n",
    "state_lst[0:5]"
   ]
  },
  {
   "cell_type": "code",
   "execution_count": 20,
   "metadata": {},
   "outputs": [
    {
     "data": {
      "text/plain": [
       "['Public Health Traineeship (A03)',\n",
       " 'Advanced Education Nursing Traineeship (A10)',\n",
       " 'Maternal and Child Health Services (B04)',\n",
       " 'Nurse Anesthetist Traineeships (A22)',\n",
       " 'Health Careers Opportunity Program (D18)']"
      ]
     },
     "execution_count": 20,
     "metadata": {},
     "output_type": "execute_result"
    }
   ],
   "source": [
    "program_lst = list(file[\"Program Name\"].unique())\n",
    "program_lst[0:5]"
   ]
  },
  {
   "cell_type": "code",
   "execution_count": 4,
   "metadata": {},
   "outputs": [
    {
     "data": {
      "text/plain": [
       "[2012, 2013, 2014, 2015, 2016, 2017, 2018]"
      ]
     },
     "execution_count": 4,
     "metadata": {},
     "output_type": "execute_result"
    }
   ],
   "source": [
    "award_year_lst = list(file[\"Award Year\"].unique())\n",
    "award_year_lst = pd.Series([int(x) for x in award_year_lst]).sort_values().reset_index()\n",
    "award_year_lst = list(pd.Series(award_year_lst[0]))\n",
    "award_year_lst"
   ]
  },
  {
   "cell_type": "code",
   "execution_count": 30,
   "metadata": {
    "scrolled": true
   },
   "outputs": [
    {
     "data": {
      "text/plain": [
       "['Region IV',\n",
       " 'Region IX',\n",
       " 'Region II',\n",
       " 'Region VI',\n",
       " 'Region I',\n",
       " 'Region V',\n",
       " 'Region III',\n",
       " 'Region VIII',\n",
       " 'Region VII',\n",
       " 'Region X',\n",
       " 'Not Determined']"
      ]
     },
     "execution_count": 30,
     "metadata": {},
     "output_type": "execute_result"
    }
   ],
   "source": [
    "region_lst = list(file[\"HHS Region\"].unique())\n",
    "region_lst"
   ]
  },
  {
   "cell_type": "code",
   "execution_count": 33,
   "metadata": {},
   "outputs": [
    {
     "data": {
      "text/plain": [
       "['Bill Nelson',\n",
       " 'Dianne Feinstein',\n",
       " 'Charles E. Schumer',\n",
       " 'Bill Cassidy',\n",
       " 'David Perdue']"
      ]
     },
     "execution_count": 33,
     "metadata": {},
     "output_type": "execute_result"
    }
   ],
   "source": [
    "senator1_lst = list(file[\"U.S. Senator Name (1)\"].unique())\n",
    "senator2_lst = list(file[\"U.S. Senator Name (2)\"].unique())\n",
    "\n",
    "senator_lst = senator1_lst + senator2_lst\n",
    "senator_lst[0:5]"
   ]
  },
  {
   "cell_type": "code",
   "execution_count": 34,
   "metadata": {},
   "outputs": [
    {
     "data": {
      "text/plain": [
       "['Carlos Curbelo',\n",
       " 'Barbara Lee',\n",
       " 'Ted Lieu',\n",
       " 'Ted S. Yoho',\n",
       " 'Carolyn B. Maloney']"
      ]
     },
     "execution_count": 34,
     "metadata": {},
     "output_type": "execute_result"
    }
   ],
   "source": [
    "congress_lst = list(file[\"U.S. Congressional Representative Name\"].unique())\n",
    "congress_lst[0:5]"
   ]
  },
  {
   "cell_type": "code",
   "execution_count": 6,
   "metadata": {},
   "outputs": [
    {
     "data": {
      "text/html": [
       "<div>\n",
       "<style scoped>\n",
       "    .dataframe tbody tr th:only-of-type {\n",
       "        vertical-align: middle;\n",
       "    }\n",
       "\n",
       "    .dataframe tbody tr th {\n",
       "        vertical-align: top;\n",
       "    }\n",
       "\n",
       "    .dataframe thead th {\n",
       "        text-align: right;\n",
       "    }\n",
       "</style>\n",
       "<table border=\"1\" class=\"dataframe\">\n",
       "  <thead>\n",
       "    <tr style=\"text-align: right;\">\n",
       "      <th></th>\n",
       "      <th>latitude</th>\n",
       "      <th>longitude</th>\n",
       "    </tr>\n",
       "  </thead>\n",
       "  <tbody>\n",
       "    <tr>\n",
       "      <th>0</th>\n",
       "      <td>25.761029</td>\n",
       "      <td>-80.376423</td>\n",
       "    </tr>\n",
       "    <tr>\n",
       "      <th>1</th>\n",
       "      <td>37.870205</td>\n",
       "      <td>-122.268031</td>\n",
       "    </tr>\n",
       "    <tr>\n",
       "      <th>2</th>\n",
       "      <td>34.058953</td>\n",
       "      <td>-118.443371</td>\n",
       "    </tr>\n",
       "    <tr>\n",
       "      <th>3</th>\n",
       "      <td>29.649728</td>\n",
       "      <td>-82.342084</td>\n",
       "    </tr>\n",
       "    <tr>\n",
       "      <th>4</th>\n",
       "      <td>40.768781</td>\n",
       "      <td>-73.965305</td>\n",
       "    </tr>\n",
       "  </tbody>\n",
       "</table>\n",
       "</div>"
      ],
      "text/plain": [
       "    latitude   longitude\n",
       "0  25.761029  -80.376423\n",
       "1  37.870205 -122.268031\n",
       "2  34.058953 -118.443371\n",
       "3  29.649728  -82.342084\n",
       "4  40.768781  -73.965305"
      ]
     },
     "execution_count": 6,
     "metadata": {},
     "output_type": "execute_result"
    }
   ],
   "source": [
    "lon = list(file[\"Longitude\"])\n",
    "lat = list(file[\"Latitude\"])\n",
    "latlon_dict = pd.DataFrame({\n",
    "    \"latitude\":lat,\n",
    "    \"longitude\":lon\n",
    "})\n",
    "latlon_dict.head()"
   ]
  },
  {
   "cell_type": "code",
   "execution_count": 7,
   "metadata": {},
   "outputs": [
    {
     "data": {
      "text/html": [
       "<div>\n",
       "<style scoped>\n",
       "    .dataframe tbody tr th:only-of-type {\n",
       "        vertical-align: middle;\n",
       "    }\n",
       "\n",
       "    .dataframe tbody tr th {\n",
       "        vertical-align: top;\n",
       "    }\n",
       "\n",
       "    .dataframe thead th {\n",
       "        text-align: right;\n",
       "    }\n",
       "</style>\n",
       "<table border=\"1\" class=\"dataframe\">\n",
       "  <thead>\n",
       "    <tr style=\"text-align: right;\">\n",
       "      <th></th>\n",
       "      <th>Financial Assistance</th>\n",
       "      <th>Latitude</th>\n",
       "      <th>Longitude</th>\n",
       "    </tr>\n",
       "  </thead>\n",
       "  <tbody>\n",
       "    <tr>\n",
       "      <th>0</th>\n",
       "      <td>30918.0</td>\n",
       "      <td>25.761029</td>\n",
       "      <td>-80.376423</td>\n",
       "    </tr>\n",
       "    <tr>\n",
       "      <th>1</th>\n",
       "      <td>25952.0</td>\n",
       "      <td>37.870205</td>\n",
       "      <td>-122.268031</td>\n",
       "    </tr>\n",
       "    <tr>\n",
       "      <th>2</th>\n",
       "      <td>70156.0</td>\n",
       "      <td>34.058953</td>\n",
       "      <td>-118.443371</td>\n",
       "    </tr>\n",
       "    <tr>\n",
       "      <th>3</th>\n",
       "      <td>12914.0</td>\n",
       "      <td>29.649728</td>\n",
       "      <td>-82.342084</td>\n",
       "    </tr>\n",
       "    <tr>\n",
       "      <th>4</th>\n",
       "      <td>26076.0</td>\n",
       "      <td>40.768781</td>\n",
       "      <td>-73.965305</td>\n",
       "    </tr>\n",
       "  </tbody>\n",
       "</table>\n",
       "</div>"
      ],
      "text/plain": [
       "   Financial Assistance   Latitude   Longitude\n",
       "0               30918.0  25.761029  -80.376423\n",
       "1               25952.0  37.870205 -122.268031\n",
       "2               70156.0  34.058953 -118.443371\n",
       "3               12914.0  29.649728  -82.342084\n",
       "4               26076.0  40.768781  -73.965305"
      ]
     },
     "execution_count": 7,
     "metadata": {},
     "output_type": "execute_result"
    }
   ],
   "source": [
    "award_by_loc = file[[\"Financial Assistance\", \"Latitude\", \"Longitude\"]].apply(pd.to_numeric)\n",
    "award_by_loc.head()"
   ]
  },
  {
   "cell_type": "code",
   "execution_count": 17,
   "metadata": {},
   "outputs": [],
   "source": [
    "# Create awards by state for each available year\n",
    "\n",
    "summary_dict = {\"Award Year\" : \"mean\", \"Financial Assistance\" : \"sum\"}\n",
    "\n",
    "award_by_state_2012 = file[[\"Award Year\", \"State Abbreviation\", \"Financial Assistance\"]][ file[\"Award Year\"] == 2012]\\\n",
    ".groupby([\"State Abbreviation\"]).agg(summary_dict)\n",
    "\n",
    "award_by_state_2013 = file[[\"Award Year\", \"State Abbreviation\", \"Financial Assistance\"]][ file[\"Award Year\"] == 2013]\\\n",
    ".groupby([\"State Abbreviation\"]).agg(summary_dict)\n",
    "\n",
    "award_by_state_2014 = file[[\"Award Year\", \"State Abbreviation\", \"Financial Assistance\"]][ file[\"Award Year\"] == 2014]\\\n",
    ".groupby([\"State Abbreviation\"]).agg(summary_dict)\n",
    "\n",
    "award_by_state_2015 = file[[\"Award Year\", \"State Abbreviation\", \"Financial Assistance\"]][ file[\"Award Year\"] == 2015]\\\n",
    ".groupby([\"State Abbreviation\"]).agg(summary_dict)\n",
    "\n",
    "award_by_state_2016 = file[[\"Award Year\", \"State Abbreviation\", \"Financial Assistance\"]][ file[\"Award Year\"] == 2016]\\\n",
    ".groupby([\"State Abbreviation\"]).agg(summary_dict)\n",
    "\n",
    "award_by_state_2017 = file[[\"Award Year\", \"State Abbreviation\", \"Financial Assistance\"]][ file[\"Award Year\"] == 2017]\\\n",
    ".groupby([\"State Abbreviation\"]).agg(summary_dict)\n",
    "\n",
    "award_by_state_2018 = file[[\"Award Year\", \"State Abbreviation\", \"Financial Assistance\"]][ file[\"Award Year\"] == 2018]\\\n",
    ".groupby([\"State Abbreviation\"]).agg(summary_dict)"
   ]
  },
  {
   "cell_type": "code",
   "execution_count": null,
   "metadata": {},
   "outputs": [],
   "source": []
  }
 ],
 "metadata": {
  "kernelspec": {
   "display_name": "Python [conda env:Anaconda3]",
   "language": "python",
   "name": "conda-env-Anaconda3-py"
  },
  "language_info": {
   "codemirror_mode": {
    "name": "ipython",
    "version": 3
   },
   "file_extension": ".py",
   "mimetype": "text/x-python",
   "name": "python",
   "nbconvert_exporter": "python",
   "pygments_lexer": "ipython3",
   "version": "3.6.5"
  }
 },
 "nbformat": 4,
 "nbformat_minor": 2
}
