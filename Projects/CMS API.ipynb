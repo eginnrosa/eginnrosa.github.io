{
 "cells": [
  {
   "cell_type": "code",
   "execution_count": 1,
   "metadata": {},
   "outputs": [],
   "source": [
    "import pandas as pd\n",
    "import requests"
   ]
  },
  {
   "cell_type": "markdown",
   "metadata": {},
   "source": [
    "### Medicare Provider Utilization and Payment Data: Physician and Other Supplier PUF CY2016"
   ]
  },
  {
   "cell_type": "code",
   "execution_count": 5,
   "metadata": {},
   "outputs": [],
   "source": [
    "puf16_endpoint = \"https://data.cms.gov/resource/haqy-eqp7.json\""
   ]
  },
  {
   "cell_type": "code",
   "execution_count": 8,
   "metadata": {},
   "outputs": [
    {
     "data": {
      "text/plain": [
       "{'average_medicare_allowed_amt': '72.743157895',\n",
       " 'average_medicare_payment_amt': '54.474385965',\n",
       " 'average_medicare_standard_amt': '55.807192982',\n",
       " 'average_submitted_chrg_amt': '325.15789474',\n",
       " 'bene_day_srvc_cnt': '57',\n",
       " 'bene_unique_cnt': '55',\n",
       " 'hcpcs_code': '99217',\n",
       " 'hcpcs_description': 'Hospital observation care discharge',\n",
       " 'hcpcs_drug_indicator': 'N',\n",
       " 'line_srvc_cnt': '57',\n",
       " 'medicare_participation_indicator': 'Y',\n",
       " 'npi': '1003000126',\n",
       " 'nppes_credentials': 'M.D.',\n",
       " 'nppes_entity_code': 'I',\n",
       " 'nppes_provider_city': 'CUMBERLAND',\n",
       " 'nppes_provider_country': 'US',\n",
       " 'nppes_provider_first_name': 'ARDALAN',\n",
       " 'nppes_provider_gender': 'M',\n",
       " 'nppes_provider_last_org_name': 'ENKESHAFI',\n",
       " 'nppes_provider_state': 'MD',\n",
       " 'nppes_provider_street1': '900 SETON DR',\n",
       " 'nppes_provider_zip': '215021854',\n",
       " 'place_of_service': 'F',\n",
       " 'provider_type': 'Internal Medicine'}"
      ]
     },
     "execution_count": 8,
     "metadata": {},
     "output_type": "execute_result"
    }
   ],
   "source": [
    "puf16_response = requests.get(puf16_endpoint).json()\n",
    "puf16_response[0]"
   ]
  },
  {
   "cell_type": "markdown",
   "metadata": {},
   "source": [
    "### Market Saturation And Utilization Dataset 2018-10-29"
   ]
  },
  {
   "cell_type": "code",
   "execution_count": 7,
   "metadata": {},
   "outputs": [],
   "source": [
    "msud18_endpoint = \"https://data.cms.gov/resource/bedw-p97b.json\""
   ]
  },
  {
   "cell_type": "code",
   "execution_count": 9,
   "metadata": {},
   "outputs": [
    {
     "data": {
      "text/plain": [
       "{'aggregation_level': 'STATE',\n",
       " 'average_number_of_providers_per_county': '12.65',\n",
       " 'average_number_of_providers_per_county_change': '-0.0027',\n",
       " 'average_number_of_users_per_provider': '630',\n",
       " 'average_number_of_users_per_provider_change': '-0.0247',\n",
       " 'county': '--ALL--',\n",
       " 'dual_nbene': '29175',\n",
       " 'number_of_dual_eligible_users_change': '-0.01',\n",
       " 'number_of_fee_for_service_beneficiaries': '795482',\n",
       " 'number_of_fee_for_service_beneficiaries_change': '-0.0201',\n",
       " 'number_of_providers': '152',\n",
       " 'number_of_providers_change': '0.00',\n",
       " 'number_of_users': '95760',\n",
       " 'number_of_users_change': '-0.0246',\n",
       " 'percentage_of_dual_eligible_users_out_of_dual_eligible_ffs_beneficiaries_change': '0.0204',\n",
       " 'percentage_of_dual_eligible_users_out_of_ffs_beneficiaries': '0.211',\n",
       " 'percentage_of_dual_eligible_users_out_of_total_users': '0.3012',\n",
       " 'percentage_of_dual_eligible_users_out_of_total_users_change': '0.0266',\n",
       " 'percentage_of_ffs_beneficiaries_by_number_of_providers_serving_county_0_to_2_providers': '0',\n",
       " 'percentage_of_ffs_beneficiaries_by_number_of_providers_serving_county_10_to_19_providers': '52.42',\n",
       " 'percentage_of_ffs_beneficiaries_by_number_of_providers_serving_county_20_or_more_providers': '10.21',\n",
       " 'percentage_of_ffs_beneficiaries_by_number_of_providers_serving_county_3_to_4_providers': '3.24',\n",
       " 'percentage_of_ffs_beneficiaries_by_number_of_providers_serving_county_5_to_9_providers': '34.13',\n",
       " 'percentage_of_users_out_of_ffs_beneficiaries': '12',\n",
       " 'percentage_of_users_out_of_ffs_beneficiaries_change': '-0.0048',\n",
       " 'reference_period': '2014-10-01 to 2015-09-30',\n",
       " 'state': 'AL',\n",
       " 'state_fips': '01',\n",
       " 'total_payment': '93481340.70',\n",
       " 'total_payments_change': '-0.0308',\n",
       " 'type_of_service': 'Ambulance (Emergency & Non-Emergency)'}"
      ]
     },
     "execution_count": 9,
     "metadata": {},
     "output_type": "execute_result"
    }
   ],
   "source": [
    "msud18_response = requests.get(msud18_endpoint).json()\n",
    "msud18_response[1]"
   ]
  },
  {
   "cell_type": "code",
   "execution_count": 15,
   "metadata": {},
   "outputs": [
    {
     "data": {
      "text/plain": [
       "array(['NATION + TERRITORIES', 'STATE', 'COUNTY'], dtype=object)"
      ]
     },
     "execution_count": 15,
     "metadata": {},
     "output_type": "execute_result"
    }
   ],
   "source": [
    "agglevel_lst = []\n",
    "\n",
    "for datadict in msud18_response:\n",
    "    agglevel_lst.append(datadict[\"aggregation_level\"])\n",
    "    \n",
    "agglevel_lst = pd.Series(agglevel_lst)\n",
    "agglevel_lst.unique()"
   ]
  },
  {
   "cell_type": "code",
   "execution_count": null,
   "metadata": {},
   "outputs": [],
   "source": []
  }
 ],
 "metadata": {
  "kernelspec": {
   "display_name": "Python [conda env:Anaconda3]",
   "language": "python",
   "name": "conda-env-Anaconda3-py"
  },
  "language_info": {
   "codemirror_mode": {
    "name": "ipython",
    "version": 3
   },
   "file_extension": ".py",
   "mimetype": "text/x-python",
   "name": "python",
   "nbconvert_exporter": "python",
   "pygments_lexer": "ipython3",
   "version": "3.6.5"
  }
 },
 "nbformat": 4,
 "nbformat_minor": 2
}
